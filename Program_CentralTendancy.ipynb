{
 "cells": [
  {
   "cell_type": "code",
   "execution_count": 28,
   "metadata": {},
   "outputs": [],
   "source": [
    "inp = [115.3,195.5,120.5,110.2,90.4,105.6,110.9,116.3,122.3,125.4]"
   ]
  },
  {
   "cell_type": "code",
   "execution_count": 29,
   "metadata": {},
   "outputs": [
    {
     "name": "stdout",
     "output_type": "stream",
     "text": [
      "121.24000000000001\n"
     ]
    }
   ],
   "source": [
    "#mean\n",
    "sumn = 0\n",
    "n = len(inp) \n",
    "for num in inp:\n",
    "    sumn+=num\n",
    "mean = sumn/n\n",
    "print(mean)"
   ]
  },
  {
   "cell_type": "code",
   "execution_count": 30,
   "metadata": {},
   "outputs": [
    {
     "name": "stdout",
     "output_type": "stream",
     "text": [
      "115.8\n"
     ]
    }
   ],
   "source": [
    "#median\n",
    "inp.sort()\n",
    "if n%2==0:\n",
    "    med1 = inp[n//2]\n",
    "    med2 = inp[(n//2)-1]\n",
    "    median = (med1+med2)/2\n",
    "else:\n",
    "    median = inp[n//2]\n",
    "print(median)"
   ]
  },
  {
   "cell_type": "code",
   "execution_count": 31,
   "metadata": {},
   "outputs": [
    {
     "name": "stdout",
     "output_type": "stream",
     "text": [
      "{195.5, 122.3, 105.6, 110.9, 110.2, 115.3, 116.3, 120.5, 90.4, 125.4}\n"
     ]
    }
   ],
   "source": [
    "#mode\n",
    "l1 = []\n",
    "i = 0\n",
    "while i<n:\n",
    "    l1.append(inp.count(inp[i]))\n",
    "    i+=1\n",
    "d1 = dict(zip(inp,l1))\n",
    "d2 = {k for (k,v) in d1.items() if v==max(l1)}\n",
    "print(d2)"
   ]
  },
  {
   "cell_type": "code",
   "execution_count": 32,
   "metadata": {},
   "outputs": [
    {
     "name": "stdout",
     "output_type": "stream",
     "text": [
      "779.7471111111112\n"
     ]
    }
   ],
   "source": [
    "#variance\n",
    "sumv = 0\n",
    "for number in inp:\n",
    "    sumv+=(number-mean)**2\n",
    "variance = sumv/(n-1)\n",
    "print(variance)"
   ]
  },
  {
   "cell_type": "code",
   "execution_count": 33,
   "metadata": {},
   "outputs": [
    {
     "name": "stdout",
     "output_type": "stream",
     "text": [
      "27.923952283140565\n"
     ]
    }
   ],
   "source": [
    "#standard deviation\n",
    "stdev = variance**(1/2)\n",
    "print(stdev)"
   ]
  },
  {
   "cell_type": "code",
   "execution_count": 34,
   "metadata": {},
   "outputs": [
    {
     "name": "stdout",
     "output_type": "stream",
     "text": [
      "[0.0, 0.1446, 0.1884, 0.1951, 0.2369, 0.2464, 0.2864, 0.3035, 0.333, 1.0]\n",
      "{90.4: 0.0, 105.6: 0.1446, 110.2: 0.1884, 110.9: 0.1951, 115.3: 0.2369, 116.3: 0.2464, 120.5: 0.2864, 122.3: 0.3035, 125.4: 0.333, 195.5: 1.0}\n"
     ]
    }
   ],
   "source": [
    "#min-max normalization\n",
    "maxm = max(inp)\n",
    "minm = min(inp)\n",
    "#new max = 1\n",
    "#new min = 0\n",
    "normalised = []\n",
    "for num in inp:\n",
    "    x = (num - minm)/(maxm-minm)\n",
    "    normalised.append(float(\"{:.4f}\".format(x)))\n",
    "print(normalised)\n",
    "d3 = dict(zip(inp,normalised))\n",
    "print(d3)"
   ]
  },
  {
   "cell_type": "code",
   "execution_count": 38,
   "metadata": {},
   "outputs": [
    {
     "name": "stdout",
     "output_type": "stream",
     "text": [
      "[-1.1044, -0.5601, -0.3954, -0.3703, -0.2127, -0.1769, -0.0265, 0.038, 0.149, 2.6594]\n",
      "{90.4: -1.1044, 105.6: -0.5601, 110.2: -0.3954, 110.9: -0.3703, 115.3: -0.2127, 116.3: -0.1769, 120.5: -0.0265, 122.3: 0.038, 125.4: 0.149, 195.5: 2.6594}\n"
     ]
    }
   ],
   "source": [
    "#standardization\n",
    "standardized = []\n",
    "for num in inp:\n",
    "    y = (num-mean)/stdev\n",
    "    standardized.append(float(\"{:.4f}\".format(y)))\n",
    "print(standardized)\n",
    "d4 = dict(zip(inp,standardized))\n",
    "print(d4)"
   ]
  },
  {
   "cell_type": "code",
   "execution_count": null,
   "metadata": {},
   "outputs": [],
   "source": []
  }
 ],
 "metadata": {
  "kernelspec": {
   "display_name": "Python 3",
   "language": "python",
   "name": "python3"
  },
  "language_info": {
   "codemirror_mode": {
    "name": "ipython",
    "version": 3
   },
   "file_extension": ".py",
   "mimetype": "text/x-python",
   "name": "python",
   "nbconvert_exporter": "python",
   "pygments_lexer": "ipython3",
   "version": "3.7.3"
  }
 },
 "nbformat": 4,
 "nbformat_minor": 2
}
